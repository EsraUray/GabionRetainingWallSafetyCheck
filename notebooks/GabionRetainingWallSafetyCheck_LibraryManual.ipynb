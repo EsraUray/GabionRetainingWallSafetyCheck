{
 "cells": [
  {
   "cell_type": "markdown",
   "id": "73256176",
   "metadata": {
    "id": "73256176"
   },
   "source": [
    "<center>\n",
    "    <span style=\"color: red; font-size: 20px;\"><strong>Surrogate Models based Full Factorial Design (FFD-SM) for Gabion Retaining Wall Stability Check</strong></span>\n",
    "</center>\n",
    "\n",
    "* This open-access environment, which does not require any software, provides users with the opportunity to conduct stability analyses of gabion retaining wall (GRW) efficiently. GRWs, extensively utilized due to their cost-effectiveness, permeability, and ease of construction, necessitate detailed stability assessments to ensure safety against sliding, overturning, and overall stability failures.\n",
    "\n",
    "* The presented tool has been developed within a Python Jupyter Notebook, offering an interactive and user-friendly platform wherein engineers, researchers, and students can perform calculations without reliance on commercial geotechnical software. Through this environment, users can:\n",
    "\n",
    "  - Evaluate safety factors concerning sliding, overturning, and slope stability,\n",
    "\n",
    "  - Test various GRW geometries and soil parameters expeditiously,\n",
    "\n",
    "  - Compare results in a reproducible format,\n",
    "\n",
    "  - Benefit from a fully open-source workflow that promotes transparency and knowledge sharing.\n",
    "\n",
    "* These advantages enable the tool to serve not only practical engineering applications but also educational purposes, assisting civil engineering students and practitioners in gaining a better understanding of the mechanics of gabion retaining walls and their stability criteria.\n",
    "* Mathematical models as surrogate model (SM) based on Full Factorial Design (FFD) were developed to check the stability assessment of GRW whose mathematical functions are provided in this file, deliver fast results with acceptable error margins.\n",
    "* Details, verification analyses, and error performance evaluations are documented in the related article (see citations of the article).\n",
    "* The dataset of 1,024 different wall designs, used in developing these mathematical models, incorporates the design principles, theoretical frameworks, and limit equilibrium approaches documented in the existing literature on retaining wall engineering."
   ]
  },
  {
   "cell_type": "markdown",
   "id": "d21aca77-ca46-4cab-bb5e-c32950270100",
   "metadata": {},
   "source": [
    "## Citation (How to Cite)\n",
    "\n",
    "If you use this notebook or its code, please cite **both** the article and the software repository.  \n",
    "\n",
    "**Article (preferred citation):**  \n",
    "Uray, E., & Geem, Z. W. (2025). *Mathematical Approach Integrating Surrogate Models in Heuristic Optimization for Gabion Retaining Wall Design*. **Mathematics, 13**(19), 3216. https://doi.org/10.3390/math13193216\n",
    "\n",
    "**Software (this repository):**  \n",
    "Uray, E. (2025). *GabionRetainingWallSafetyCheck* (Version 1.0) [Jupyter Notebook]. GitHub: https://github.com/EsraUray/GabionRetainingWallSafetyCheck\n",
    "\n",
    "---\n",
    "\n",
    "### BibTeX — Article\n",
    "```bibtex\n",
    "@article{UrayGeem2025_Mathematics,\n",
    "  author  = {Uray, Esra and Geem, Z. W.},\n",
    "  title   = {Mathematical Approach Integrating Surrogate Models in Heuristic Optimization for Gabion Retaining Wall Design},\n",
    "  journal = {Mathematics},\n",
    "  year    = {2025},\n",
    "  volume  = {13},\n",
    "  number  = {19},\n",
    "  pages   = {3216},\n",
    "  doi     = {10.3390/math13193216}\n",
    "}\n",
    "\n",
    "@software{Uray2025_GRW_Notebook,\n",
    "  author       = {Esra Uray},\n",
    "  title        = {GabionRetainingWallSafetyCheck},\n",
    "  year         = {2025},\n",
    "  version      = {X.Y.Z},\n",
    "  url          = {https://github.com/EsraUray/GabionRetainingWallSafetyCheck},\n",
    "  note         = {Jupyter Notebook and code repository}\n",
    "}\n",
    "\n"
   ]
  },
  {
   "cell_type": "markdown",
   "id": "18dec688-24d3-4bb0-9a31-1a031f22ae84",
   "metadata": {},
   "source": [
    "<span style=\"color: blue; font-size: 18px;\"><strong>Guide for Mathematical Models & Explanations</strong></span>"
   ]
  },
  {
   "cell_type": "markdown",
   "id": "a5556a49-b859-4afb-a48b-05beec097705",
   "metadata": {},
   "source": [
    "<br>\n",
    "\n",
    "<center>\n",
    "    <img src=\"./GabionRetainingWall.png\" width=\"900\" height=\"500\" />\n",
    "</center>\n",
    "\n",
    "<br>\n",
    "\n",
    "Figure explanation: \n",
    "Gabion retaining wall: (a) Slope stability check, (b) Sliding check, (c) Overturning check, (d) Design parameters with acting loads, (e) Gabion basket detail"
   ]
  },
  {
   "cell_type": "markdown",
   "id": "4076e78e",
   "metadata": {
    "id": "4076e78e"
   },
   "source": [
    "### Parameters for GRW design with Explanations\n",
    "\n",
    "| **Parameter** | **Explanation** |\n",
    "|---------------|-----------------|\n",
    "| Unit weight of gabion filler, $\\gamma_{g}$ | 20 $kN/m^3$ |\n",
    "| Angle of internal friction of gabion filler, $\\phi_{g}$ | 30$^\\circ$ |\n",
    "| Cohesion of gabion filler, $c$ | 0 |\n",
    "| Mesh strength of gabion basket, $R_t$ | 50 $kN/m$ |\n",
    "| Vertical partitions spacing of gabion basket, $v$ | 1.0 m |\n",
    "| Joint bearing capacity of gabion basket, $R_s$ | 40 $kN/m$ |\n",
    "| Unit volume weight of backfill and base soil, $\\gamma_{\\text{soil}}$ | 18 $kN/m^3$ |\n",
    "| Angle of internal friction of backfill and base soil, $\\phi$ | parameter in FFD-SM |\n",
    "| Slope of backfill soil, $\\beta$ | 0 |\n",
    "| Friction angle structure–soil, $\\delta$ | $\\phi$ |\n",
    "| Cohesion of backfill and base soil, $c_{\\text{ef}}$ | 0 |\n",
    "| Saturated unit weight of backfill and base soil, $\\gamma_{\\text{soil}}$ | $kN/m^3$ |"
   ]
  },
  {
   "cell_type": "markdown",
   "id": "33cfdf42-2f79-4a26-bcad-8f835609c7d5",
   "metadata": {
    "colab": {
     "base_uri": "https://localhost:8080/"
    },
    "id": "wqrKQfJHagcV",
    "outputId": "907ac4cb-2f33-404f-dc15-74a29e73b44c"
   },
   "source": [
    "<span style=\"color: blue; font-size: 18px;\"><strong> Definitions for Wall Dimension & Soil </strong></span>\n",
    "FFD-SM mathematical models parameters follow;\n",
    "- **$H$ :** Wall height\n",
    "- **$B$ :** Base width\n",
    "- **$B_r$ :** Gabion basket width reduction ratio\n",
    "- **$\\phi$ :** Angle of internal friction\n",
    "- **$\\alpha$ :** Wall inclination"
   ]
  },
  {
   "cell_type": "markdown",
   "id": "79922a9c",
   "metadata": {
    "id": "79922a9c"
   },
   "source": [
    "<span style=\"color: blue; font-size: 18px;\"><strong>Guide for Mathematical Models </strong></span>\n",
    "\n",
    "**1)** Generate GRW wall dimensions, following the example figure provided;\n",
    "\n",
    "<br>\n",
    "\n",
    "<center>\n",
    "    <img src=\"./AdjustingGabionBasketsWidth.png\" width=\"600\" height=\"200\" />\n",
    "</center>\n",
    "\n",
    "<br>\n",
    "\n",
    "\n",
    "Figure explanation: \n",
    "Adjusting the gabion basket width: (a) GEO5 GRW model, (b) Dimensions of gabion basket, (c) Adjustment of width\n",
    "\n",
    "Note: \n",
    "* If the width of the obtained gabion basket is less than 0.50 m, it is considered to be 0.50 m.\n",
    "* The developed FFD-SM is only valid between the lower and upper limits of the parameters given below.\n",
    "\n",
    "**2)** To determine the safety factors of sliding ($F_s$), overturning ($F_o$), and slope stability ($F_{ss}$), define the GRW dimensions considering given the lower and upper limits of parametres given follows:\n",
    "- **$H$** (m): 4.0 - 10.0\n",
    "- **$B/H$ :** (m): 0.30 - 0.75\n",
    "- **$B_r/B$ :** (m): 0.90 - 0.60\n",
    "- **$\\alpha (°)$ :** (%): 0.0 - 12.0\n",
    "- **$\\phi (°)$ :** 20 - 41\n",
    "* For example GRW design: $H = 7m$, $B/H$ = 2.40/7 = 0.34, $B_r/B$ = 2.40/1.68 = 1.43, $\\alpha = 12°$, $\\phi$ = 36°\n",
    "\n",
    "**3)** Using this mathematical model's function file given below, safety factors will be calculated based on the current user's design by runing \"calculate_fs\" function.\n"
   ]
  },
  {
   "cell_type": "markdown",
   "id": "27601aff",
   "metadata": {
    "id": "27601aff"
   },
   "source": [
    "<span style=\"color: blue; font-size: 18px;\"><strong>Functions for Mathematical Models </strong></span>"
   ]
  },
  {
   "cell_type": "code",
   "execution_count": 9,
   "id": "16d157f1-53bf-4407-953b-f0e2c3117151",
   "metadata": {},
   "outputs": [],
   "source": [
    "import numpy as np\n",
    "\n",
    "def calculate_fs(B, Br, H, Phi, Alpha, Delta_S=0, Delta_O=0, Delta_SS=0):\n",
    "    \"\"\"\n",
    "    Returns:\n",
    "      Fs_S  : Sliding safety factor\n",
    "      Fs_O  : Overturning safety factor\n",
    "      Fs_SS : Slope (global) stability safety factor\n",
    "    \"\"\"\n",
    "    # Sliding (Fs_S) — originally 'Kayma'\n",
    "    ksiH_K = -0.0013*H**3 + 0.0382*H**2 - 0.4404*H + 9.659 - Delta_S + Delta_S/5\n",
    "    ksiB_K = 18.765*(B/H)**3 - 44.867*(B/H)**2 + 46.528*(B/H) - 6.273 - Delta_S + Delta_S/5\n",
    "    ksiBr_K = 11*(Br/B)**3 - 18.9*(Br/B)**2 + 11.32*(Br/B) + 5.5 - Delta_S + Delta_S/5\n",
    "    ksiAlfa_K = (-0.34134*(np.tan(np.radians(Alpha))**3) \n",
    "                 + 4.3408*(np.tan(np.radians(Alpha))**2) \n",
    "                 - 8.11*(np.tan(np.radians(Alpha))) \n",
    "                 + 8.855 - Delta_S + Delta_S/5)\n",
    "    ksiFi_K = (18.167*(np.tan(np.radians(Phi))**3) \n",
    "               - 52.403*(np.tan(np.radians(Phi))**2) \n",
    "               + 74.036*(np.tan(np.radians(Phi))) \n",
    "               - 20.87 - Delta_S + Delta_S/5)\n",
    "    Lk = ksiH_K + ksiB_K + ksiBr_K + ksiAlfa_K + ksiFi_K\n",
    "    Fs_S = np.sqrt(1/(10**(-Lk/10)))\n",
    "\n",
    "    # Overturning (Fs_O) — originally 'Devrilme'\n",
    "    if (H >= 4) and (H < 6):\n",
    "        ksiH_D = -0.251*H + 14.882 - Delta_O + Delta_O/5\n",
    "    elif (H >= 6) and (H <= 10):\n",
    "        ksiH_D = 0.013*H**2 - 0.325*H + 14.858 - Delta_O + Delta_O/5\n",
    "    else:\n",
    "        ksiH_D = 0  # original behaviour\n",
    "    \n",
    "    ksiB_D = 33.63*(B/H)**3 - 79.956*(B/H)**2 + 87.063*(B/H) - 14.465 - Delta_O + Delta_O/5\n",
    "    ksiBr_D = 20.95*(Br/B)**3 - 37.755*(Br/B)**2 + 23.25*(Br/B) + 8.157 - Delta_O + Delta_O/5\n",
    "    ksiAlfa_D = (20.241*(np.tan(np.radians(Alpha))**3) \n",
    "                 - 2.1471*(np.tan(np.radians(Alpha))**2) \n",
    "                 + 12.028*(np.tan(np.radians(Alpha))) \n",
    "                 + 12.014 - Delta_O + Delta_O/5)\n",
    "    ksiFi_D = (4.6527*(np.tan(np.radians(Phi))**3) \n",
    "               - 15.464*(np.tan(np.radians(Phi))**2) \n",
    "               + 29.653*(np.tan(np.radians(Phi))) \n",
    "               + 0.2584 - Delta_O + Delta_O/5)\n",
    "    Ld = ksiH_D + ksiB_D + ksiBr_D + ksiAlfa_D + ksiFi_D\n",
    "    Fs_O = np.sqrt(1/(10**(-Ld/10)))\n",
    "\n",
    "    # Slope/Global (Fs_SS) — originally 'Toptan göçme'\n",
    "    ksiH_S = -0.00004*H**3 + 0.0025*H**2 - 0.0403*H + 3.22 - Delta_SS + Delta_SS/5\n",
    "    ksiB_S = 0.0494*(B/H)**3 - 2.8889*(B/H)**2 + 10.006*(B/H) - 1.331 - Delta_SS + Delta_SS/5\n",
    "    ksiBr_S = 4*(Br/B)**3 - 7.8*(Br/B)**2 + 5.2*(Br/B) + 1.839 - Delta_SS + Delta_SS/5\n",
    "    ksiAlfa_S = (58.99*(np.tan(np.radians(Alpha))**3) \n",
    "                 - 21.487*(np.tan(np.radians(Alpha))**2) \n",
    "                 + 5.6187*(np.tan(np.radians(Alpha))) \n",
    "                 + 2.647 - Delta_SS + Delta_SS/5)\n",
    "    ksiFi_S = (14.663*(np.tan(np.radians(Phi))**3) \n",
    "               - 39.803*(np.tan(np.radians(Phi))**2) \n",
    "               + 46.387*(np.tan(np.radians(Phi))) \n",
    "               - 13.226 - Delta_SS + Delta_SS/5)\n",
    "    Ls = ksiH_S + ksiB_S + ksiBr_S + ksiAlfa_S + ksiFi_S\n",
    "    Fs_SS = np.sqrt(1/(10**(-Ls/10)))\n",
    "\n",
    "    return Fs_S, Fs_O, Fs_SS\n",
    "\n",
    "def print_safety(Fs_S, Fs_O, Fs_SS, limit=1.50):\n",
    "    print('Safety factors results;')\n",
    "    if Fs_S < limit:\n",
    "        print(f'Unsafe design for sliding check : Fs = {Fs_S:.2f} < {limit:.2f}')\n",
    "    else:\n",
    "        print(f'Safe design for sliding check   : Fs = {Fs_S:.2f} > {limit:.2f}')\n",
    "    if Fs_O < limit:\n",
    "        print(f'Unsafe design for overturning   : Fo = {Fs_O:.2f} < {limit:.2f}')\n",
    "    else:\n",
    "        print(f'Safe design for overturning     : Fo = {Fs_O:.2f} > {limit:.2f}')\n",
    "    if Fs_SS < limit:\n",
    "        print(f'Unsafe design for slope stab.   : Fss = {Fs_SS:.2f} < {limit:.2f}')\n",
    "    else:\n",
    "        print(f'Safe design for slope stab.     : Fss = {Fs_SS:.2f} > {limit:.2f}')\n",
    "        \n",
    "    return {\n",
    "        \"Sliding safety factor (Fs)\": Fs_S,\n",
    "        \"Overturning safety factor (Fo)\": Fs_O,\n",
    "        \"Slope stability safety factor (Fss)\": Fs_SS\n",
    "    }\n"
   ]
  },
  {
   "cell_type": "markdown",
   "id": "90ffb451",
   "metadata": {
    "id": "90ffb451"
   },
   "source": [
    "<span style=\"color: blue; font-size: 18px;\"><strong>Application of Mathematical Models </strong></span>"
   ]
  },
  {
   "cell_type": "code",
   "execution_count": 8,
   "id": "c87e194f-3606-498f-bda9-97110ead2c2b",
   "metadata": {},
   "outputs": [
    {
     "name": "stdout",
     "output_type": "stream",
     "text": [
      "Fs_S = 2.32\n",
      "Fs_O = 2.55\n",
      "Fs_SS = 1.42\n",
      "Safety factors results;\n",
      "Safe design for sliding check   : Fs = 2.32 > 1.50\n",
      "Safe design for overturning     : Fo = 2.55 > 1.50\n",
      "Unsafe design for slope stab.   : Fss = 1.42 < 1.50\n"
     ]
    },
    {
     "data": {
      "text/plain": [
       "{'Sliding safety factor (Fs)': np.float64(2.317125347712024),\n",
       " 'Overturning safety factor (Fo)': np.float64(2.5547435939769567),\n",
       " 'Slope stability safety factor (Fss)': np.float64(1.4214573916464004)}"
      ]
     },
     "execution_count": 8,
     "metadata": {},
     "output_type": "execute_result"
    }
   ],
   "source": [
    "Fs_S, Fs_O, Fs_SS = calculate_fs(\n",
    "    B=1.20, Br=1.08, H=4, Phi=34, Alpha=8,\n",
    "    Delta_S=8.07, Delta_O=13.31, Delta_SS=3.05\n",
    ")\n",
    "\n",
    "print(f\"Fs_S = {Fs_S:.2f}\") \n",
    "print(f\"Fs_O = {Fs_O:.2f}\")  \n",
    "print(f\"Fs_SS = {Fs_SS:.2f}\") \n",
    "\n",
    "print_safety(Fs_S, Fs_O, Fs_SS, limit=1.50)\n"
   ]
  },
  {
   "cell_type": "code",
   "execution_count": null,
   "id": "bfc9c818-d391-4390-ab1d-90395f233ce5",
   "metadata": {},
   "outputs": [],
   "source": []
  }
 ],
 "metadata": {
  "colab": {
   "provenance": []
  },
  "kernelspec": {
   "display_name": "Python 3 (ipykernel)",
   "language": "python",
   "name": "python3"
  },
  "language_info": {
   "codemirror_mode": {
    "name": "ipython",
    "version": 3
   },
   "file_extension": ".py",
   "mimetype": "text/x-python",
   "name": "python",
   "nbconvert_exporter": "python",
   "pygments_lexer": "ipython3",
   "version": "3.13.5"
  }
 },
 "nbformat": 4,
 "nbformat_minor": 5
}
